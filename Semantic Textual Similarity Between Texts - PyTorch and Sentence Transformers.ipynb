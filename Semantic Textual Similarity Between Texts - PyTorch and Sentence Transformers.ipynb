{
 "cells": [
  {
   "cell_type": "code",
   "execution_count": 3,
   "id": "4199b7bc",
   "metadata": {
    "scrolled": true
   },
   "outputs": [
    {
     "name": "stdout",
     "output_type": "stream",
     "text": [
      "Requirement already satisfied: sentence-transformers in c:\\users\\ekizi\\appdata\\roaming\\python\\python39\\site-packages (2.2.2)\n"
     ]
    },
    {
     "name": "stderr",
     "output_type": "stream",
     "text": [
      "ERROR: Could not find a version that satisfies the requirement turkish-nlp (from versions: none)\n",
      "ERROR: No matching distribution found for turkish-nlp\n",
      "\n",
      "[notice] A new release of pip is available: 23.1.2 -> 23.2.1\n",
      "[notice] To update, run: python.exe -m pip install --upgrade pip\n"
     ]
    }
   ],
   "source": [
    "!pip install sentence-transformers turkish-nlp"
   ]
  },
  {
   "cell_type": "code",
   "execution_count": 9,
   "id": "525ef52d",
   "metadata": {},
   "outputs": [
    {
     "name": "stdout",
     "output_type": "stream",
     "text": [
      "Requirement already satisfied: matplotlib in c:\\users\\ekizi\\anaconda3\\lib\\site-packages (3.7.1)\n",
      "Requirement already satisfied: contourpy>=1.0.1 in c:\\users\\ekizi\\anaconda3\\lib\\site-packages (from matplotlib) (1.0.7)\n",
      "Requirement already satisfied: cycler>=0.10 in c:\\users\\ekizi\\anaconda3\\lib\\site-packages (from matplotlib) (0.11.0)\n",
      "Requirement already satisfied: fonttools>=4.22.0 in c:\\users\\ekizi\\anaconda3\\lib\\site-packages (from matplotlib) (4.25.0)\n",
      "Requirement already satisfied: kiwisolver>=1.0.1 in c:\\users\\ekizi\\anaconda3\\lib\\site-packages (from matplotlib) (1.3.2)\n",
      "Requirement already satisfied: numpy>=1.20 in c:\\users\\ekizi\\appdata\\roaming\\python\\python39\\site-packages (from matplotlib) (1.21.2)\n",
      "Requirement already satisfied: packaging>=20.0 in c:\\users\\ekizi\\anaconda3\\lib\\site-packages (from matplotlib) (21.3)\n",
      "Requirement already satisfied: pillow>=6.2.0 in c:\\users\\ekizi\\appdata\\roaming\\python\\python39\\site-packages (from matplotlib) (10.0.0)\n",
      "Requirement already satisfied: pyparsing>=2.3.1 in c:\\users\\ekizi\\anaconda3\\lib\\site-packages (from matplotlib) (3.0.4)\n",
      "Requirement already satisfied: python-dateutil>=2.7 in c:\\users\\ekizi\\anaconda3\\lib\\site-packages (from matplotlib) (2.8.2)\n",
      "Requirement already satisfied: importlib-resources>=3.2.0 in c:\\users\\ekizi\\anaconda3\\lib\\site-packages (from matplotlib) (5.12.0)\n",
      "Requirement already satisfied: zipp>=3.1.0 in c:\\users\\ekizi\\anaconda3\\lib\\site-packages (from importlib-resources>=3.2.0->matplotlib) (3.7.0)\n",
      "Requirement already satisfied: six>=1.5 in c:\\users\\ekizi\\anaconda3\\lib\\site-packages (from python-dateutil>=2.7->matplotlib) (1.16.0)\n"
     ]
    },
    {
     "name": "stderr",
     "output_type": "stream",
     "text": [
      "\n",
      "[notice] A new release of pip is available: 23.1.2 -> 23.2.1\n",
      "[notice] To update, run: python.exe -m pip install --upgrade pip\n"
     ]
    }
   ],
   "source": [
    "!pip install matplotlib"
   ]
  },
  {
   "cell_type": "code",
   "execution_count": 11,
   "id": "13d187d1",
   "metadata": {},
   "outputs": [
    {
     "name": "stdout",
     "output_type": "stream",
     "text": [
      "Text 1: Cumhurbaşkanı Tayyip Erdoğan, Suudi Arabistan, Katar ve Birleşik Arap Emirlikleri’ni kapsayan Körfez turu sonrasında uçakta gazetecilerin sorularını yanıtladı. Hükümetin ekonomi politikaları nedeniyle hızla artan konut fiyatları ve kiralarla ilgili konuşan Erdoğan, ceza uygulayacaklarını söyledi ve boş evlere de vergi gelebileceği sinyali verdi.\n",
      "Text 2: \"Başkan Recep Tayyip Erdoğan Körfez turu sonrası gazetecilerle söyleşi gerçekleştirdi. Ekonomi gündemine ilişkin önemli açıklamalarda bulunan Erdoğan emekli maaşı zammı konusunda tarih vererek yeniden değerlendirileceğini açıkladı. Başkan Erdoğan, \"Memura, işçiye ve emekliye bütçe şartlarını zorlayarak yapabileceğimiz en iyi zammı yaptık. Kimseyi enflasyona ezdirmeyeceğimize dair söz verdik ve şu ana kadar da ezdirmedik\" dedi. Yüksek kira fiyatları ile ilgili ise Erdoğan, \"Vatandaşlarımızı açgözlü bir avuç azınlığın kar hırsına kurban edemeyiz. Vatandaşımızın alım gücünü düşürmemek, enflasyona ezdirmemek için yaptığımız zamlara göz diken ev sahipleri bunun bedelini ödemek zorunda kalacak. Hangi konuda olursa olsun fahiş fiyat artışlarına giden, piyasanın dengesini bozan yaptığı davranışın cezasını çekecektir\" dedi.\n",
      "Text 3: Cumhurbaşkanı Recep Tayyip Erdoğan, Körfez turunu tamamladı. Suudi Arabistan, Katar, Birleşik Arap Emirlikleri ve Kuzey Kıbrıs Türk Cumhuriyeti (KKTC) ziyareti dönüşünde uçakta gazetecilerin sorularını yanıtlayan Erdoğan, dış politikadan memur zamlarına kadar gündemdeki pek çok soruyu yanıtladı.\n",
      "Semantic Textual Similarity Score between Text 1 and Text 2: 0.5925232172012329\n",
      "Semantic Textual Similarity Score between Text 1 and Text 3: 0.5995372533798218\n",
      "Semantic Textual Similarity Score between Text 2 and Text 3: 0.40929603576660156\n"
     ]
    },
    {
     "data": {
      "image/png": "[encoded data removed]",
      "text/plain": [
       "<Figure size 432x288 with 1 Axes>"
      ]
     },
     "metadata": {
      "needs_background": "light"
     },
     "output_type": "display_data"
    }
   ],
   "source": [
    "from sentence_transformers import SentenceTransformer, util\n",
    "from TurkishStemmer import TurkishStemmer\n",
    "import matplotlib.pyplot as plt\n",
    "\n",
    "# Function to preprocess the text\n",
    "def preprocess_text(text):\n",
    "    # Lowercase the text\n",
    "    text = text.lower()\n",
    "    # Remove special characters and numbers\n",
    "    text = ''.join(char for char in text if char.isalnum() or char.isspace())\n",
    "    return text\n",
    "\n",
    "# Turkish Stemmer\n",
    "turkish_stemmer = TurkishStemmer()\n",
    "\n",
    "# Input texts\n",
    "text1 = \"Cumhurbaşkanı Tayyip Erdoğan, Suudi Arabistan, Katar ve Birleşik Arap Emirlikleri’ni kapsayan Körfez turu sonrasında uçakta gazetecilerin sorularını yanıtladı. Hükümetin ekonomi politikaları nedeniyle hızla artan konut fiyatları ve kiralarla ilgili konuşan Erdoğan, ceza uygulayacaklarını söyledi ve boş evlere de vergi gelebileceği sinyali verdi.\"\n",
    "text2 = \"\\\"Başkan Recep Tayyip Erdoğan Körfez turu sonrası gazetecilerle söyleşi gerçekleştirdi. Ekonomi gündemine ilişkin önemli açıklamalarda bulunan Erdoğan emekli maaşı zammı konusunda tarih vererek yeniden değerlendirileceğini açıkladı. Başkan Erdoğan, \\\"Memura, işçiye ve emekliye bütçe şartlarını zorlayarak yapabileceğimiz en iyi zammı yaptık. Kimseyi enflasyona ezdirmeyeceğimize dair söz verdik ve şu ana kadar da ezdirmedik\\\" dedi. Yüksek kira fiyatları ile ilgili ise Erdoğan, \\\"Vatandaşlarımızı açgözlü bir avuç azınlığın kar hırsına kurban edemeyiz. Vatandaşımızın alım gücünü düşürmemek, enflasyona ezdirmemek için yaptığımız zamlara göz diken ev sahipleri bunun bedelini ödemek zorunda kalacak. Hangi konuda olursa olsun fahiş fiyat artışlarına giden, piyasanın dengesini bozan yaptığı davranışın cezasını çekecektir\\\" dedi.\"\n",
    "text3 = \"Cumhurbaşkanı Recep Tayyip Erdoğan, Körfez turunu tamamladı. Suudi Arabistan, Katar, Birleşik Arap Emirlikleri ve Kuzey Kıbrıs Türk Cumhuriyeti (KKTC) ziyareti dönüşünde uçakta gazetecilerin sorularını yanıtlayan Erdoğan, dış politikadan memur zamlarına kadar gündemdeki pek çok soruyu yanıtladı.\"\n",
    "\n",
    "# Preprocess the texts\n",
    "preprocessed_text1 = preprocess_text(text1)\n",
    "preprocessed_text2 = preprocess_text(text2)\n",
    "preprocessed_text3 = preprocess_text(text3)\n",
    "\n",
    "# Tokenize and stem the texts (optional step for Turkish text)\n",
    "tokens1 = turkish_stemmer.stem(preprocessed_text1).split()\n",
    "tokens2 = turkish_stemmer.stem(preprocessed_text2).split()\n",
    "tokens3 = turkish_stemmer.stem(preprocessed_text3).split()\n",
    "\n",
    "# Convert back to text\n",
    "processed_text1 = \" \".join(tokens1)\n",
    "processed_text2 = \" \".join(tokens2)\n",
    "processed_text3 = \" \".join(tokens3)\n",
    "\n",
    "# Load the Sentence Transformers model\n",
    "model_name = \"paraphrase-multilingual-MiniLM-L12-v2\"\n",
    "model = SentenceTransformer(model_name)\n",
    "\n",
    "# Encode the texts into sentence embeddings\n",
    "embedding1 = model.encode([processed_text1], convert_to_tensor=True)\n",
    "embedding2 = model.encode([processed_text2], convert_to_tensor=True)\n",
    "embedding3 = model.encode([processed_text3], convert_to_tensor=True)\n",
    "\n",
    "# Compute the cosine similarity score between the embeddings\n",
    "similarity_score_1_2 = util.pytorch_cos_sim(embedding1, embedding2)[0][0].item()\n",
    "similarity_score_1_3 = util.pytorch_cos_sim(embedding1, embedding3)[0][0].item()\n",
    "similarity_score_2_3 = util.pytorch_cos_sim(embedding2, embedding3)[0][0].item()\n",
    "\n",
    "print(\"Text 1:\", text1)\n",
    "print(\"Text 2:\", text2)\n",
    "print(\"Text 3:\", text3)\n",
    "print(\"Semantic Textual Similarity Score between Text 1 and Text 2:\", similarity_score_1_2)\n",
    "print(\"Semantic Textual Similarity Score between Text 1 and Text 3:\", similarity_score_1_3)\n",
    "print(\"Semantic Textual Similarity Score between Text 2 and Text 3:\", similarity_score_2_3)\n",
    "\n",
    "# Plot the similarity scores\n",
    "texts = ['Text 1 (Sözcü) and Text 2 (Sabah)', 'Text 1 (Sözcü) and Text 3 (Halk TV)', 'Text 2 (Sabah) and Text 3 (Halk TV)']\n",
    "scores = [similarity_score_1_2, similarity_score_1_3, similarity_score_2_3]\n",
    "\n",
    "plt.bar(texts, scores)\n",
    "plt.ylim(0, 1.0)\n",
    "plt.ylabel('Semantic Textual Similarity Score')\n",
    "plt.title('Semantic Textual Similarity between Texts')\n",
    "plt.xticks(rotation=15)  # To avoid overlapping text on x-axis\n",
    "plt.show()\n",
    "\n",
    "\n",
    "\n"
   ]
  }
 ],
 "metadata": {
  "kernelspec": {
   "display_name": "Python 3 (ipykernel)",
   "language": "python",
   "name": "python3"
  },
  "language_info": {
   "codemirror_mode": {
    "name": "ipython",
    "version": 3
   },
   "file_extension": ".py",
   "mimetype": "text/x-python",
   "name": "python",
   "nbconvert_exporter": "python",
   "pygments_lexer": "ipython3",
   "version": "3.9.12"
  }
 },
 "nbformat": 4,
 "nbformat_minor": 5
}

{
 "cells": [
  {
   "cell_type": "code",
   "execution_count": 2,
   "id": "8a4bb685",
   "metadata": {},
   "outputs": [
    {
     "name": "stdout",
     "output_type": "stream",
     "text": [
      "Collecting pyLDAvis\n",
      "  Downloading pyLDAvis-3.4.1-py3-none-any.whl (2.6 MB)\n",
      "Requirement already satisfied: setuptools in c:\\users\\ekizi\\anaconda3\\lib\\site-packages (from pyLDAvis) (61.2.0)\n",
      "Requirement already satisfied: scikit-learn>=1.0.0 in c:\\users\\ekizi\\anaconda3\\lib\\site-packages (from pyLDAvis) (1.0.2)\n",
      "Requirement already satisfied: pandas>=2.0.0 in c:\\users\\ekizi\\anaconda3\\lib\\site-packages (from pyLDAvis) (2.0.1)\n",
      "Collecting numpy>=1.24.2\n",
      "  Downloading numpy-1.25.1-cp39-cp39-win_amd64.whl (15.1 MB)\n",
      "Collecting funcy\n",
      "  Downloading funcy-2.0-py2.py3-none-any.whl (30 kB)\n",
      "Collecting joblib>=1.2.0\n",
      "  Downloading joblib-1.3.1-py3-none-any.whl (301 kB)\n",
      "Requirement already satisfied: numexpr in c:\\users\\ekizi\\anaconda3\\lib\\site-packages (from pyLDAvis) (2.8.4)\n",
      "Requirement already satisfied: gensim in c:\\users\\ekizi\\anaconda3\\lib\\site-packages (from pyLDAvis) (4.1.2)\n",
      "Requirement already satisfied: scipy in c:\\users\\ekizi\\anaconda3\\lib\\site-packages (from pyLDAvis) (1.7.3)\n",
      "Requirement already satisfied: jinja2 in c:\\users\\ekizi\\anaconda3\\lib\\site-packages (from pyLDAvis) (2.11.3)\n",
      "Requirement already satisfied: tzdata>=2022.1 in c:\\users\\ekizi\\anaconda3\\lib\\site-packages (from pandas>=2.0.0->pyLDAvis) (2023.3)\n",
      "Requirement already satisfied: python-dateutil>=2.8.2 in c:\\users\\ekizi\\anaconda3\\lib\\site-packages (from pandas>=2.0.0->pyLDAvis) (2.8.2)\n",
      "Requirement already satisfied: pytz>=2020.1 in c:\\users\\ekizi\\anaconda3\\lib\\site-packages (from pandas>=2.0.0->pyLDAvis) (2021.3)\n",
      "Requirement already satisfied: six>=1.5 in c:\\users\\ekizi\\anaconda3\\lib\\site-packages (from python-dateutil>=2.8.2->pandas>=2.0.0->pyLDAvis) (1.16.0)\n",
      "Requirement already satisfied: threadpoolctl>=2.0.0 in c:\\users\\ekizi\\anaconda3\\lib\\site-packages (from scikit-learn>=1.0.0->pyLDAvis) (2.2.0)\n",
      "Collecting scipy\n",
      "  Downloading scipy-1.11.1-cp39-cp39-win_amd64.whl (44.1 MB)\n",
      "Requirement already satisfied: smart-open>=1.8.1 in c:\\users\\ekizi\\anaconda3\\lib\\site-packages (from gensim->pyLDAvis) (5.1.0)\n",
      "Requirement already satisfied: MarkupSafe>=0.23 in c:\\users\\ekizi\\anaconda3\\lib\\site-packages (from jinja2->pyLDAvis) (2.0.1)\n",
      "Installing collected packages: numpy, scipy, joblib, funcy, pyLDAvis\n",
      "  Attempting uninstall: numpy\n",
      "    Found existing installation: numpy 1.21.5\n",
      "    Uninstalling numpy-1.21.5:\n",
      "      Successfully uninstalled numpy-1.21.5\n",
      "  Attempting uninstall: scipy\n",
      "    Found existing installation: scipy 1.7.3\n",
      "    Uninstalling scipy-1.7.3:\n",
      "      Successfully uninstalled scipy-1.7.3\n",
      "  Attempting uninstall: joblib\n",
      "    Found existing installation: joblib 1.1.0\n",
      "    Uninstalling joblib-1.1.0:\n",
      "      Successfully uninstalled joblib-1.1.0\n",
      "Successfully installed funcy-2.0 joblib-1.3.1 numpy-1.25.1 pyLDAvis-3.4.1 scipy-1.11.1\n",
      "Note: you may need to restart the kernel to use updated packages.\n"
     ]
    },
    {
     "name": "stderr",
     "output_type": "stream",
     "text": [
      "ERROR: pip's dependency resolver does not currently take into account all the packages that are installed. This behaviour is the source of the following dependency conflicts.\n",
      "daal4py 2021.5.0 requires daal==2021.4.0, which is not installed.\n",
      "pymc3 3.11.5 requires numpy<1.22.2,>=1.15.0, but you have numpy 1.25.1 which is incompatible.\n",
      "pymc3 3.11.5 requires scipy<1.8.0,>=1.7.3, but you have scipy 1.11.1 which is incompatible.\n",
      "numba 0.55.1 requires numpy<1.22,>=1.18, but you have numpy 1.25.1 which is incompatible.\n"
     ]
    }
   ],
   "source": [
    "pip install pyLDAvis"
   ]
  },
  {
   "cell_type": "code",
   "execution_count": 4,
   "id": "96794d55",
   "metadata": {},
   "outputs": [
    {
     "name": "stderr",
     "output_type": "stream",
     "text": [
      "[nltk_data] Downloading package stopwords to\n",
      "[nltk_data]     C:\\Users\\ekizi\\AppData\\Roaming\\nltk_data...\n",
      "[nltk_data]   Package stopwords is already up-to-date!\n"
     ]
    }
   ],
   "source": [
    "import pandas as pd\n",
    "import gensim\n",
    "from gensim.utils import simple_preprocess\n",
    "from gensim.models import LdaModel\n",
    "from gensim.corpora import Dictionary\n",
    "from nltk.corpus import stopwords\n",
    "import nltk\n",
    "import pyLDAvis.gensim_models as gensimvis\n",
    "import pyLDAvis\n",
    "import warnings\n",
    "\n",
    "warnings.filterwarnings(\"ignore\", category=DeprecationWarning)\n",
    "\n",
    "nltk.download('stopwords')\n",
    "\n",
    "# Read the CSV file\n",
    "data = pd.read_csv(r'C:\\Users\\ekizi\\Downloads\\haberler LDA\\TurkishNewsArticles.csv')\n",
    "\n",
    "# Extract the news article titles\n",
    "news_titles = data['title'][:1000]  # Only use the first 500 rows\n",
    "\n",
    "# Read the custom stopword list file\n",
    "stop_words_file = r'C:\\Users\\ekizi\\Downloads\\haberler LDA\\stop-words.txt'\n",
    "with open(stop_words_file, 'r', encoding='utf-8') as f:\n",
    "    custom_stop_words = f.read().splitlines()\n",
    "\n",
    "# Preprocess the news titles with custom stopword list\n",
    "processed_titles = []\n",
    "for title in news_titles:\n",
    "    processed_text = [word for word in simple_preprocess(title, deacc=True, min_len=2) if word not in custom_stop_words]\n",
    "    processed_titles.append(processed_text)\n",
    "\n",
    "# Create a dictionary representation of the titles\n",
    "dictionary = Dictionary(processed_titles)\n",
    "dictionary.id2token = {id: token for token, id in dictionary.token2id.items()}\n",
    "\n",
    "# Create a corpus (Bag of Words) representation of the titles\n",
    "corpus = [dictionary.doc2bow(doc) for doc in processed_titles]\n",
    "\n",
    "# Set the number of topics\n",
    "num_topics = 50  # Reduce the number of topics if memory issues persist\n",
    "\n",
    "# Build the LDA model\n",
    "lda_model = LdaModel(\n",
    "    corpus=corpus,\n",
    "    id2word=dictionary,\n",
    "    num_topics=num_topics,\n",
    "    passes=10,\n",
    "    iterations=100,\n",
    "    alpha='auto',\n",
    "    per_word_topics=True,\n",
    "    random_state=42,\n",
    "    eval_every=None,\n",
    "    decay=0.5,\n",
    "    offset=1.0,\n",
    "    eta='auto'\n",
    ")\n",
    "\n",
    "# Suppress the \"mismatched input\" warning\n",
    "pyLDAvis.enable_notebook()\n",
    "\n",
    "# Visualize the topics\n",
    "try:\n",
    "    lda_vis = gensimvis.prepare(lda_model, corpus, dictionary, n_jobs=1)\n",
    "    pyLDAvis.display(lda_vis)\n",
    "except ValueError as e:\n",
    "    print(f\"Visualization error: {e}\")\n",
    "\n",
    "# Save the HTML visualization\n",
    "pyLDAvis.save_html(lda_vis, 'lda_visualization.html')\n"
   ]
  },
  {
   "cell_type": "code",
   "execution_count": null,
   "id": "90d8b9ad",
   "metadata": {},
   "outputs": [],
   "source": []
  }
 ],
 "metadata": {
  "kernelspec": {
   "display_name": "Python 3 (ipykernel)",
   "language": "python",
   "name": "python3"
  },
  "language_info": {
   "codemirror_mode": {
    "name": "ipython",
    "version": 3
   },
   "file_extension": ".py",
   "mimetype": "text/x-python",
   "name": "python",
   "nbconvert_exporter": "python",
   "pygments_lexer": "ipython3",
   "version": "3.9.12"
  }
 },
 "nbformat": 4,
 "nbformat_minor": 5
}
